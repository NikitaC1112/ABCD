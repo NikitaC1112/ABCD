{
 "cells": [
  {
   "cell_type": "code",
   "execution_count": 1,
   "metadata": {},
   "outputs": [],
   "source": [
    "import numpy as np\n",
    "import pandas as pd\n",
    "import pickle"
   ]
  },
  {
   "cell_type": "code",
   "execution_count": 6,
   "metadata": {},
   "outputs": [],
   "source": [
    "def read_file(xl_file):\n",
    "    for sheet_name in xl_file.sheet_names:\n",
    "        temp = xl_file.parse(sheet_name).values\n",
    "        names = xl_file.parse(sheet_name).columns\n",
    "        names = np.asarray(names)\n",
    "        temp = np.asarray(temp)\n",
    "\n",
    "        print type(temp)\n",
    "        print type(names)\n",
    "        print temp.shape\n",
    "\n",
    "    return names,temp"
   ]
  },
  {
   "cell_type": "code",
   "execution_count": 13,
   "metadata": {},
   "outputs": [
    {
     "name": "stdout",
     "output_type": "stream",
     "text": [
      "<type 'numpy.ndarray'>\n",
      "<type 'numpy.ndarray'>\n",
      "(541909, 8)\n",
      "<type 'numpy.ndarray'>\n",
      "<type 'numpy.ndarray'>\n",
      "(541909, 6)\n"
     ]
    }
   ],
   "source": [
    "# To read and save excel sheets into pickle files\n",
    "\n",
    "# date_file = 'date.xlsx'\n",
    "# sales_data_file = 'sales_data.xlsx'\n",
    "# sales_columns,sales_data = read_file(pd.ExcelFile(sales_data_file))\n",
    "# date_columns,date = read_file(pd.ExcelFile(date_file))\n",
    "\n",
    "# with open('data.pkl','w') as f:\n",
    "#     pickle.dump([sales_data,sales_columns,date,date_columns],f)"
   ]
  },
  {
   "cell_type": "code",
   "execution_count": 15,
   "metadata": {},
   "outputs": [],
   "source": [
    "with open('data.pkl','r') as f:\n",
    "    sales_data,sales_columns,date,date_columns = pickle.load(f)"
   ]
  },
  {
   "cell_type": "code",
   "execution_count": 24,
   "metadata": {},
   "outputs": [
    {
     "name": "stdout",
     "output_type": "stream",
     "text": [
      "<type 'int'>\n",
      "541696\n",
      "transaction id\n"
     ]
    }
   ],
   "source": [
    "# To print a sample transaction id\n",
    "\n",
    "print type(sales_data[-1,0])\n",
    "print sales_data[65534,0]\n",
    "print sales_columns[0]"
   ]
  },
  {
   "cell_type": "code",
   "execution_count": 69,
   "metadata": {},
   "outputs": [
    {
     "name": "stdout",
     "output_type": "stream",
     "text": [
      "<type 'datetime.date'>\n",
      "2010-12-01\n"
     ]
    }
   ],
   "source": [
    "print type(date[10,1].date())\n",
    "print date[10,1].date()"
   ]
  },
  {
   "cell_type": "code",
   "execution_count": 74,
   "metadata": {},
   "outputs": [
    {
     "name": "stdout",
     "output_type": "stream",
     "text": [
      "305\n"
     ]
    }
   ],
   "source": [
    "from collections import Counter\n",
    "\n",
    "# trans = list()\n",
    "# for i in range(sales_data.shape[0]):\n",
    "#     print i\n",
    "#     if type(sales_data[i,0]) is not int:\n",
    "#         p = sales_data[i,0][0].encode('ascii')\n",
    "#         if p[0] is not 'C':\n",
    "# #             print sales_data[i,0]\n",
    "# #             break\n",
    "#             trans.append(date[i,1].date())\n",
    "\n",
    "def return_date(d):\n",
    "    return d.date()\n",
    "\n",
    "return_date = np.vectorize(return_date)\n",
    "trans = Counter(return_date(date[:,1]))\n",
    "print len(trans)"
   ]
  },
  {
   "cell_type": "code",
   "execution_count": 77,
   "metadata": {},
   "outputs": [
    {
     "name": "stdout",
     "output_type": "stream",
     "text": [
      "5331\n",
      "2011-12-09\n"
     ]
    }
   ],
   "source": [
    "print max(trans.values())\n",
    "print max(trans.keys())"
   ]
  },
  {
   "cell_type": "code",
   "execution_count": 80,
   "metadata": {},
   "outputs": [
    {
     "data": {
      "image/png": "[encoded data removed]",
      "text/plain": [
       "<Figure size 432x288 with 1 Axes>"
      ]
     },
     "metadata": {
      "needs_background": "light"
     },
     "output_type": "display_data"
    }
   ],
   "source": [
    "import matplotlib.pyplot as plt\n",
    "\n",
    "labels, values = zip(*trans.items())\n",
    "\n",
    "indexes = np.arange(len(labels))\n",
    "width = 1\n",
    "\n",
    "plt.bar(indexes, values, width)\n",
    "plt.xticks(indexes + width * 0.5, labels)\n",
    "plt.show()"
   ]
  }
 ],
 "metadata": {
  "kernelspec": {
   "display_name": "Python 2",
   "language": "python",
   "name": "python2"
  },
  "language_info": {
   "codemirror_mode": {
    "name": "ipython",
    "version": 2
   },
   "file_extension": ".py",
   "mimetype": "text/x-python",
   "name": "python",
   "nbconvert_exporter": "python",
   "pygments_lexer": "ipython2",
   "version": "2.7.13"
  }
 },
 "nbformat": 4,
 "nbformat_minor": 2
}
